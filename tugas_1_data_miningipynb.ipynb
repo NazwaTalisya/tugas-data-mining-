{
  "nbformat": 4,
  "nbformat_minor": 0,
  "metadata": {
    "colab": {
      "provenance": [],
      "authorship_tag": "ABX9TyPdGRLPKMjZL2b1hId4xl+r",
      "include_colab_link": true
    },
    "kernelspec": {
      "name": "python3",
      "display_name": "Python 3"
    },
    "language_info": {
      "name": "python"
    }
  },
  "cells": [
    {
      "cell_type": "markdown",
      "metadata": {
        "id": "view-in-github",
        "colab_type": "text"
      },
      "source": [
        "<a href=\"https://colab.research.google.com/github/NazwaTalisya/tugas-data-mining-/blob/main/tugas_1_data_miningipynb.ipynb\" target=\"_parent\"><img src=\"https://colab.research.google.com/assets/colab-badge.svg\" alt=\"Open In Colab\"/></a>"
      ]
    },
    {
      "cell_type": "markdown",
      "source": [
        "# \"Clothes Price Prediction\" Menggunakan Metedologi CRISP-DM\n"
      ],
      "metadata": {
        "id": "nIw_4hizjMTD"
      }
    },
    {
      "cell_type": "markdown",
      "source": [
        "##**Business Understanding**\n",
        "\n",
        "\n"
      ],
      "metadata": {
        "id": "3KJUddy-jIB-"
      }
    },
    {
      "cell_type": "markdown",
      "source": [
        "**Business Objective**\n",
        "\n",
        "Tujuan utama dari bisnis datasets ini adalah untuk mengembangkan model prediktif yang mampu memperkirakan harga item pakaian berdasarkan berbagai atribut seperti merek, kategori, warna, ukuran, dan bahan. Dengan memiliki prediksi harga yang akurat, perusahaan dapat mengoptimalkan strategi penetapan harga mereka, memastikan bahwa setiap produk ditawarkan dengan harga yang kompetitif dan menguntungkan. Selain itu, dengan memanfaatkan analisis prediktif, perusahaan dapat meningkatkan margin keuntungan dengan menyesuaikan harga secara tepat berdasarkan karakteristik item pakaian dan kondisi pasar. Hal ini juga membantu dalam meningkatkan daya saing di pasar dengan merespons perubahan harga pesaing secara proaktif, serta menawarkan harga yang menarik bagi konsumen untuk meningkatkan pangsa pasar dan memperkuat posisi merek dalam industri pakaian. Lebih jauh lagi, prediksi harga yang akurat juga berdampak pada pengalaman pelanggan dengan memberikan harga yang lebih transparan dan konsisten, sehingga meningkatkan kepuasan pelanggan dan membangun kepercayaan dalam merek. Terakhir, dengan memprediksi permintaan dan harga untuk item pakaian tertentu, perusahaan dapat mengelola inventaris secara lebih efisien, mengurangi risiko kelebihan atau kekurangan stok, dan mengoptimalkan siklus hidup produk untuk memaksimalkan penjualan. Dengan demikian, proyek ini bertujuan untuk memberikan nilai tambah bagi perusahaan dalam meningkatkan profitabilitas, daya saing, dan pengalaman pelanggan melalui penggunaan analisis prediktif dalam penetapan harga item pakaian.\n",
        "\n",
        "**Assess Situation**\n",
        "\n",
        "Dalam industri pakaian yang dinamis, fluktuasi harga dan persaingan yang ketat menjadi ciri khas utama. Dalam konteks ini, penting untuk melakukan evaluasi mendalam terhadap situasi pasar dan kondisi internal perusahaan dalam upaya mengembangkan model prediktif untuk memprediksi harga item pakaian berdasarkan berbagai atribut. Pertama-tama, kompleksitas pasar pakaian yang dipengaruhi oleh faktor-faktor seperti tren mode, musim, dan preferensi konsumen perlu dipahami dengan seksama untuk mengidentifikasi pola harga yang muncul. Selain itu, ketersediaan dan kualitas data tentang atribut pakaian seperti merek, kategori, warna, ukuran, bahan, dan harga menjadi kunci dalam pengembangan model prediktif yang akurat. Selanjutnya, pemahaman mendalam tentang konteks bisnis, strategi pasar, dan kebutuhan pelanggan membantu menyesuaikan model prediktif dengan kebutuhan perusahaan. Penilaian terhadap proses penetapan harga saat ini dan identifikasi area di mana peningkatan diperlukan juga penting. Selain itu, mengikuti tren teknologi dan kemajuan dalam analisis data dapat memberikan wawasan tentang alat dan teknik terkini yang dapat digunakan untuk meningkatkan akurasi dan kinerja model. Analisis terhadap kondisi ekonomi dan posisi persaingan di pasar pakaian juga membantu dalam memahami faktor-faktor eksternal yang memengaruhi harga dan memungkinkan perusahaan untuk menyesuaikan strategi penetapan harga dengan lebih efektif. Dengan menyelidiki situasi secara menyeluruh, perusahaan dapat memahami konteks yang mengelilingi pengembangan model prediktif untuk prediksi harga item pakaian dan merancang pendekatan yang sesuai dengan kebutuhan bisnis dan kondisi pasar yang ada.\n",
        "\n",
        "**Data Mining Goals**\n",
        "\n",
        "Dalam upaya untuk memprediksi harga item pakaian berdasarkan berbagai atribut yang relevan, sejumlah tujuan data mining menjadi fokus utama. Pertama, analisis pola dan hubungan antara atribut seperti merek, kategori, warna, ukuran, bahan, dan harga bertujuan untuk mengidentifikasi tren atau pola yang dapat digunakan dalam memprediksi harga dengan akurat. Langkah berikutnya adalah mengidentifikasi faktor-faktor penentu utama yang memengaruhi harga, melalui analisis statistik dan eksplorasi data yang mendalam. Setelah faktor-faktor ini teridentifikasi, tujuan berikutnya adalah pengembangan model prediktif yang dapat memprediksi harga item pakaian dengan mempertimbangkan atribut yang dipertimbangkan. Model ini dapat menggunakan berbagai teknik machine learning seperti regresi, decision tree, atau neural networks. Evaluasi kinerja model menjadi langkah penting selanjutnya, menggunakan metrik evaluasi seperti mean absolutbie error (MAE) atau root mean squared error (RMSE) untuk menilai seberapa akurat model dalam memprediksi harga. Validasi dan penyetelan model kemudian dilakukan untuk memastikan bahwa model dapat diterapkan pada data baru dengan akurasi yang baik. Terakhir, integrasi model prediktif ke dalam sistem yang ada memungkinkan penerapan model secara otomatis dalam praktik bisnis, membantu dalam pengambilan keputusan yang lebih baik terkait strategi penetapan harga dan manajemen inventaris. Dengan mencapai tujuan-tujuan ini, perusahaan dapat memanfaatkan informasi yang berharga dari data untuk meningkatkan efisiensi dan profitabilitas bisnis mereka dalam industri pakaian.\n",
        "\n",
        "**Project Plan**\n",
        "\n",
        "Proyek ini bertujuan untuk mengembangkan model prediktif yang mampu memprediksi harga item pakaian berdasarkan berbagai atribut yang relevan, seperti merek, kategori, warna, ukuran, dan bahan. Tahap awal melibatkan pengumpulan data yang komprehensif dari sumber yang dapat dipercaya, serta pra-pemrosesan data untuk membersihkan data dari nilai yang hilang atau duplikat. Setelah data siap, analisis eksploratori data (EDA) akan dilakukan untuk mengidentifikasi pola dan korelasi antara atribut pakaian dan harga. Langkah selanjutnya adalah pengembangan model prediktif, di mana berbagai algoritma machine learning akan dievaluasi dan dipilih berdasarkan kinerja mereka dalam memprediksi harga. Model yang dipilih akan disesuaikan dan disetel untuk meningkatkan akurasi dan generalisasi melalui validasi silang dan penyetelan hyperparameter. Selanjutnya, kinerja model akan dievaluasi menggunakan set pengujian terpisah untuk memastikan keandalannya dalam memprediksi harga secara akurat. Setelah model terverifikasi, akan diintegrasikan ke dalam sistem yang ada dan diimplementasikan dalam lingkungan produksi. Pelatihan akan diberikan kepada tim terkait penggunaan model, dan dokumentasi lengkap akan disiapkan untuk memfasilitasi pemeliharaan dan pembaruan model di masa mendatang. Dengan mengikuti rencana proyek ini, diharapkan perusahaan dapat menghasilkan model prediktif yang efektif untuk mendukung keputusan harga yang lebih baik dan meningkatkan profitabilitas dalam industri pakaian.\n",
        "\n",
        "\n",
        "\n",
        "\n",
        "\n",
        "\n",
        "\n",
        "\n",
        "\n",
        "\n",
        "\n",
        "\n",
        "\n",
        "\n",
        "\n"
      ],
      "metadata": {
        "id": "ptCukVDaqWJ7"
      }
    }
  ]
}